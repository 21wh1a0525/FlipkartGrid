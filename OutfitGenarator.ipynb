{
  "cells": [
    {
      "cell_type": "markdown",
      "metadata": {
        "id": "jlvqJKX8j5jr"
      },
      "source": [
        "**Prerequisites**\n",
        "\n",
        "\n",
        "Make sure to set Hardware accelerator as T4GPU\n",
        "\n",
        "(This can be done by setting runtype change in Google Colab)"
      ]
    },
    {
      "cell_type": "code",
      "execution_count": null,
      "metadata": {
        "id": "4KvfAAEGdgZb",
        "colab": {
          "base_uri": "https://localhost:8080/"
        },
        "outputId": "ccd3e762-e704-4653-f074-e29323f2d382"
      },
      "outputs": [
        {
          "metadata": {
            "tags": null
          },
          "name": "stdout",
          "output_type": "stream",
          "text": [
            "Collecting diffusers==0.10.2\n",
            "  Downloading diffusers-0.10.2-py3-none-any.whl (503 kB)\n",
            "\u001b[2K     \u001b[90m━━━━━━━━━━━━━━━━━━━━━━━━━━━━━━━━━━━━━━━━\u001b[0m \u001b[32m503.1/503.1 kB\u001b[0m \u001b[31m4.2 MB/s\u001b[0m eta \u001b[36m0:00:00\u001b[0m\n",
            "\u001b[?25hRequirement already satisfied: transformers in /usr/local/lib/python3.10/dist-packages (4.35.2)\n",
            "Requirement already satisfied: scipy in /usr/local/lib/python3.10/dist-packages (1.11.4)\n",
            "Collecting ftfy\n",
            "  Downloading ftfy-6.1.3-py3-none-any.whl (53 kB)\n",
            "\u001b[2K     \u001b[90m━━━━━━━━━━━━━━━━━━━━━━━━━━━━━━━━━━━━━━━━\u001b[0m \u001b[32m53.4/53.4 kB\u001b[0m \u001b[31m7.6 MB/s\u001b[0m eta \u001b[36m0:00:00\u001b[0m\n",
            "\u001b[?25hCollecting accelerate\n",
            "  Downloading accelerate-0.26.1-py3-none-any.whl (270 kB)\n",
            "\u001b[2K     \u001b[90m━━━━━━━━━━━━━━━━━━━━━━━━━━━━━━━━━━━━━━━━\u001b[0m \u001b[32m270.9/270.9 kB\u001b[0m \u001b[31m23.9 MB/s\u001b[0m eta \u001b[36m0:00:00\u001b[0m\n",
            "\u001b[?25hRequirement already satisfied: importlib-metadata in /usr/local/lib/python3.10/dist-packages (from diffusers==0.10.2) (7.0.1)\n",
            "Requirement already satisfied: filelock in /usr/local/lib/python3.10/dist-packages (from diffusers==0.10.2) (3.13.1)\n",
            "Requirement already satisfied: huggingface-hub>=0.10.0 in /usr/local/lib/python3.10/dist-packages (from diffusers==0.10.2) (0.20.3)\n",
            "Requirement already satisfied: numpy in /usr/local/lib/python3.10/dist-packages (from diffusers==0.10.2) (1.23.5)\n",
            "Requirement already satisfied: regex!=2019.12.17 in /usr/local/lib/python3.10/dist-packages (from diffusers==0.10.2) (2023.12.25)\n",
            "Requirement already satisfied: requests in /usr/local/lib/python3.10/dist-packages (from diffusers==0.10.2) (2.31.0)\n",
            "Requirement already satisfied: Pillow in /usr/local/lib/python3.10/dist-packages (from diffusers==0.10.2) (9.4.0)\n",
            "Requirement already satisfied: packaging>=20.0 in /usr/local/lib/python3.10/dist-packages (from transformers) (23.2)\n",
            "Requirement already satisfied: pyyaml>=5.1 in /usr/local/lib/python3.10/dist-packages (from transformers) (6.0.1)\n",
            "Requirement already satisfied: tokenizers<0.19,>=0.14 in /usr/local/lib/python3.10/dist-packages (from transformers) (0.15.1)\n",
            "Requirement already satisfied: safetensors>=0.3.1 in /usr/local/lib/python3.10/dist-packages (from transformers) (0.4.2)\n",
            "Requirement already satisfied: tqdm>=4.27 in /usr/local/lib/python3.10/dist-packages (from transformers) (4.66.1)\n",
            "Requirement already satisfied: wcwidth<0.3.0,>=0.2.12 in /usr/local/lib/python3.10/dist-packages (from ftfy) (0.2.13)\n",
            "Requirement already satisfied: psutil in /usr/local/lib/python3.10/dist-packages (from accelerate) (5.9.5)\n",
            "Requirement already satisfied: torch>=1.10.0 in /usr/local/lib/python3.10/dist-packages (from accelerate) (2.1.0+cu121)\n",
            "Requirement already satisfied: fsspec>=2023.5.0 in /usr/local/lib/python3.10/dist-packages (from huggingface-hub>=0.10.0->diffusers==0.10.2) (2023.6.0)\n",
            "Requirement already satisfied: typing-extensions>=3.7.4.3 in /usr/local/lib/python3.10/dist-packages (from huggingface-hub>=0.10.0->diffusers==0.10.2) (4.9.0)\n",
            "Requirement already satisfied: sympy in /usr/local/lib/python3.10/dist-packages (from torch>=1.10.0->accelerate) (1.12)\n",
            "Requirement already satisfied: networkx in /usr/local/lib/python3.10/dist-packages (from torch>=1.10.0->accelerate) (3.2.1)\n",
            "Requirement already satisfied: jinja2 in /usr/local/lib/python3.10/dist-packages (from torch>=1.10.0->accelerate) (3.1.3)\n",
            "Requirement already satisfied: triton==2.1.0 in /usr/local/lib/python3.10/dist-packages (from torch>=1.10.0->accelerate) (2.1.0)\n",
            "Requirement already satisfied: zipp>=0.5 in /usr/local/lib/python3.10/dist-packages (from importlib-metadata->diffusers==0.10.2) (3.17.0)\n",
            "Requirement already satisfied: charset-normalizer<4,>=2 in /usr/local/lib/python3.10/dist-packages (from requests->diffusers==0.10.2) (3.3.2)\n",
            "Requirement already satisfied: idna<4,>=2.5 in /usr/local/lib/python3.10/dist-packages (from requests->diffusers==0.10.2) (3.6)\n",
            "Requirement already satisfied: urllib3<3,>=1.21.1 in /usr/local/lib/python3.10/dist-packages (from requests->diffusers==0.10.2) (2.0.7)\n",
            "Requirement already satisfied: certifi>=2017.4.17 in /usr/local/lib/python3.10/dist-packages (from requests->diffusers==0.10.2) (2024.2.2)\n",
            "Requirement already satisfied: MarkupSafe>=2.0 in /usr/local/lib/python3.10/dist-packages (from jinja2->torch>=1.10.0->accelerate) (2.1.5)\n",
            "Requirement already satisfied: mpmath>=0.19 in /usr/local/lib/python3.10/dist-packages (from sympy->torch>=1.10.0->accelerate) (1.3.0)\n",
            "Installing collected packages: ftfy, diffusers, accelerate\n",
            "Successfully installed accelerate-0.26.1 diffusers-0.10.2 ftfy-6.1.3\n"
          ]
        },
        {
          "output_type": "stream",
          "name": "stderr",
          "text": [
            "WARNING:jax._src.xla_bridge:CUDA backend failed to initialize: Found CUDA version 12010, but JAX was built against version 12020, which is newer. The copy of CUDA that is installed must be at least as new as the version against which JAX was built. (Set TF_CPP_MIN_LOG_LEVEL=0 and rerun for more info.)\n",
            "[nltk_data] Downloading package punkt to /root/nltk_data...\n",
            "[nltk_data]   Unzipping tokenizers/punkt.zip.\n"
          ]
        }
      ],
      "source": [
        "!pip install diffusers==0.10.2 transformers scipy ftfy accelerate\n",
        "from diffusers import StableDiffusionPipeline\n",
        "import nltk\n",
        "from nltk.chat.util import Chat, reflections\n",
        "from IPython.display import display\n",
        "nltk.download('punkt')\n",
        "pipe = StableDiffusionPipeline.from_pretrained(\"runwayml/stable-diffusion-v1-5\")\n",
        "pipe.to(\"cuda\")"
      ]
    },
    {
      "cell_type": "code",
      "execution_count": null,
      "metadata": {
        "id": "sOknU8rbdk1h"
      },
      "outputs": [],
      "source": [
        "patterns = [\n",
        "    (r'hi|hello|hey', ['Hello!', 'Hi there!', 'Hey!']),\n",
        "    (r'how are you|how\\'s it going', ['I\\'m just a chatbot, but I\\'m doing fine. How can I assist you?']),\n",
        "    (r'bye|goodbye', ['Goodbye!', 'Have a great day!', 'See you later!']),\n",
        "    (r'my name is (.*)', ['Hi %1! How can I help you today?']),\n",
        "    (r'(.*) (weather|temperature)', ['I\\'m not equipped to check the weather, sorry.']),\n",
        "    (r'(.*) (buy|purchase) (.*)', ['Sure, I can help you with that. What specific item are you looking to buy?']),\n",
        "    (r'(.*) (looking for|searching for) (.*)', ['Of course! What type of %3 are you searching for?']),\n",
        "    (r'(.*) (recommend|suggest) (.*)(clothing|outfit)', ['Certainly! What occasion is the outfit for?']),\n",
        "    (r'(.*) (add|remove) (.*) to (cart|shopping cart)', ['Sure, I\\'ve added %3 to your shopping cart.', 'I\\'ve removed %3 from your shopping cart.']),\n",
        "    (r'(.*) (name|call) (.*)', ['Nice to meet you, %3!', 'Hello, %3!']),\n",
        "    (r'(.*) (age|old) (.*)', ['I see! How can I assist you with shopping today, %1?']),\n",
        "    (r'(.*) (gender|sex) (.*)', ['Great! What are you looking to shop for, %1?']),\n",
        "    (r'(.*) (region|location) (.*)', ['Got it! How can I assist you with shopping in %3, %1?'])\n",
        "]\n",
        "\n",
        "\n",
        "chatbot = Chat(patterns, reflections)\n",
        "\n",
        "\n",
        "user_info = {}\n",
        "print(\"Chatbot: Hello!\")\n",
        "\n",
        "print(\"Chatbot: what's your name?\")\n",
        "user_info['name'] = input(\"You: \")\n",
        "\n",
        "print(\"Chatbot: Nice to meet you, {}! How old are you?\".format(user_info['name']))\n",
        "user_info['age'] = int(input(\"You: \"))\n",
        "\n",
        "print(\"Chatbot: Got it! What's your gender?\")\n",
        "user_info['gender'] = input(\"You: \")\n",
        "\n",
        "print(\"Chatbot: Thank you! Where are you located?\")\n",
        "user_info['region'] = input(\"You: \")\n",
        "\n",
        "print(\"Chatbot: Pick any of the style to genarate outfit.\\nFormal\\nDiwali\\nOnam\\nNavaratri\\nRamzan\\nKarvaChauth\\nHoli\\nBaby\")\n",
        "user_input = input(\"You: \")\n",
        "if user_input.lower() == 'exit':\n",
        "    print(\"Chatbot: Goodbye!\")\n",
        "\n",
        "prompt = f\"{user_input} outfit  for a {user_info['age']} year old {user_info['gender']} in {user_info['region']}\"\n",
        "image = pipe(prompt).images[0]\n",
        "image\n",
        "\n"
      ]
    },
    {
      "cell_type": "code",
      "execution_count": null,
      "metadata": {
        "id": "me7W-zo3drN4"
      },
      "outputs": [],
      "source": [
        "print(\"Chatbot: Are you satisfied with the outfit?\\nType 'yes' for satisfied or type 'no' if you are not satisfied.\")\n",
        "response = input(\"You: \")\n",
        "if response.lower() in ['no', 'n']:\n",
        "    print(\"Chatbot: Sorry for not meeting your expectations.\")\n",
        "else:\n",
        "    print(\"Chatbot: Do you want to try accessories that match the outfit?\")\n",
        "    accessories = input(\"You: \")\n",
        "    if accessories.lower() in ['no', 'n']:\n",
        "        print(\"Chatbot: Goodbye! If you want any outfits in the future, feel free to ask. Have a great day!\")\n",
        "    else:\n",
        "        print(\"Chatbot: Type the accessories you want to try from the given list.\\nEarrings\\nHandbag\\nWallet\\nJewelry\")\n",
        "        chosen_accessory = input(\"You: \")\n",
        "        accessory_prompt = f\"{chosen_accessory} for a {user_info['gender']} in {user_info['region']}\"\n",
        "        accessory_image = pipe(accessory_prompt).images[0]\n",
        "        display(accessory_image)"
      ]
    }
  ],
  "metadata": {
    "accelerator": "GPU",
    "colab": {
      "provenance": [],
      "gpuType": "T4"
    },
    "kernelspec": {
      "display_name": "Python 3",
      "name": "python3"
    },
    "language_info": {
      "name": "python"
    }
  },
  "nbformat": 4,
  "nbformat_minor": 0
}